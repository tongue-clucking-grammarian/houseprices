{
 "cells": [
  {
   "cell_type": "markdown",
   "id": "87dcc887",
   "metadata": {
    "papermill": {
     "duration": 0.00615,
     "end_time": "2022-09-08T23:54:12.494216",
     "exception": false,
     "start_time": "2022-09-08T23:54:12.488066",
     "status": "completed"
    },
    "tags": []
   },
   "source": [
    "# Predicting House Prices with Regression"
   ]
  },
  {
   "cell_type": "markdown",
   "id": "29ce3ad9",
   "metadata": {
    "papermill": {
     "duration": 0.004106,
     "end_time": "2022-09-08T23:54:12.503126",
     "exception": false,
     "start_time": "2022-09-08T23:54:12.499020",
     "status": "completed"
    },
    "tags": []
   },
   "source": [
    "This dataset comes from a Kaggle competition and describes 1460 residences in Ames, Iowa based on 79 factors such as size, age and quality of the property. The goal is to develop a model to predict price of the house. Let's also test the notion that house prices have been high lately."
   ]
  },
  {
   "cell_type": "code",
   "execution_count": 1,
   "id": "499c7c12",
   "metadata": {
    "_cell_guid": "b1076dfc-b9ad-4769-8c92-a6c4dae69d19",
    "_uuid": "8f2839f25d086af736a60e9eeb907d3b93b6e0e5",
    "execution": {
     "iopub.execute_input": "2022-09-08T23:54:12.513730Z",
     "iopub.status.busy": "2022-09-08T23:54:12.513213Z",
     "iopub.status.idle": "2022-09-08T23:54:14.156193Z",
     "shell.execute_reply": "2022-09-08T23:54:14.154950Z"
    },
    "papermill": {
     "duration": 1.65203,
     "end_time": "2022-09-08T23:54:14.159313",
     "exception": false,
     "start_time": "2022-09-08T23:54:12.507283",
     "status": "completed"
    },
    "tags": []
   },
   "outputs": [
    {
     "name": "stdout",
     "output_type": "stream",
     "text": [
      "/kaggle/input/house-prices-advanced-regression-techniques/sample_submission.csv\n",
      "/kaggle/input/house-prices-advanced-regression-techniques/data_description.txt\n",
      "/kaggle/input/house-prices-advanced-regression-techniques/train.csv\n",
      "/kaggle/input/house-prices-advanced-regression-techniques/test.csv\n"
     ]
    }
   ],
   "source": [
    "# Load Packages\n",
    "import numpy as np \n",
    "import pandas as pd \n",
    "import matplotlib.pyplot as plt\n",
    "from sklearn.tree import DecisionTreeRegressor\n",
    "from sklearn.metrics import mean_absolute_error\n",
    "from sklearn.model_selection import train_test_split\n",
    "import seaborn as sns\n",
    "\n",
    "\n",
    "# List data paths \n",
    "import os\n",
    "for dirname, _, filenames in os.walk('/kaggle/input'):\n",
    "    for filename in filenames:\n",
    "        print(os.path.join(dirname, filename))\n",
    "\n",
    "# Reading data \n",
    "train = pd.read_csv('/kaggle/input/house-prices-advanced-regression-techniques/train.csv')\n",
    "test = pd.read_csv('/kaggle/input/house-prices-advanced-regression-techniques/test.csv')"
   ]
  },
  {
   "cell_type": "markdown",
   "id": "50347af6",
   "metadata": {
    "papermill": {
     "duration": 0.004203,
     "end_time": "2022-09-08T23:54:14.168331",
     "exception": false,
     "start_time": "2022-09-08T23:54:14.164128",
     "status": "completed"
    },
    "tags": []
   },
   "source": [
    "## Initial data analysis and tidying\n",
    "The first step is to understand our dataset better. I take a look at the data and notice factors like Fireplace Quality and Fence Quality have a lot of missing data. For simplicity, I decided to remove all columns that contain any missing data, reducing the number of factors from 79 to 61. \n",
    "I feel this is a poor practice since some factors such as Electrical System are only missing a few values, it'd be better to throw out the few missing values than throw out the entire column. "
   ]
  },
  {
   "cell_type": "code",
   "execution_count": 2,
   "id": "2af6c24e",
   "metadata": {
    "execution": {
     "iopub.execute_input": "2022-09-08T23:54:14.179444Z",
     "iopub.status.busy": "2022-09-08T23:54:14.178602Z",
     "iopub.status.idle": "2022-09-08T23:54:14.221950Z",
     "shell.execute_reply": "2022-09-08T23:54:14.220703Z"
    },
    "papermill": {
     "duration": 0.051842,
     "end_time": "2022-09-08T23:54:14.224614",
     "exception": false,
     "start_time": "2022-09-08T23:54:14.172772",
     "status": "completed"
    },
    "tags": []
   },
   "outputs": [
    {
     "name": "stdout",
     "output_type": "stream",
     "text": [
      "<class 'pandas.core.frame.DataFrame'>\n",
      "RangeIndex: 1460 entries, 0 to 1459\n",
      "Data columns (total 81 columns):\n",
      " #   Column         Non-Null Count  Dtype  \n",
      "---  ------         --------------  -----  \n",
      " 0   Id             1460 non-null   int64  \n",
      " 1   MSSubClass     1460 non-null   int64  \n",
      " 2   MSZoning       1460 non-null   object \n",
      " 3   LotFrontage    1201 non-null   float64\n",
      " 4   LotArea        1460 non-null   int64  \n",
      " 5   Street         1460 non-null   object \n",
      " 6   Alley          91 non-null     object \n",
      " 7   LotShape       1460 non-null   object \n",
      " 8   LandContour    1460 non-null   object \n",
      " 9   Utilities      1460 non-null   object \n",
      " 10  LotConfig      1460 non-null   object \n",
      " 11  LandSlope      1460 non-null   object \n",
      " 12  Neighborhood   1460 non-null   object \n",
      " 13  Condition1     1460 non-null   object \n",
      " 14  Condition2     1460 non-null   object \n",
      " 15  BldgType       1460 non-null   object \n",
      " 16  HouseStyle     1460 non-null   object \n",
      " 17  OverallQual    1460 non-null   int64  \n",
      " 18  OverallCond    1460 non-null   int64  \n",
      " 19  YearBuilt      1460 non-null   int64  \n",
      " 20  YearRemodAdd   1460 non-null   int64  \n",
      " 21  RoofStyle      1460 non-null   object \n",
      " 22  RoofMatl       1460 non-null   object \n",
      " 23  Exterior1st    1460 non-null   object \n",
      " 24  Exterior2nd    1460 non-null   object \n",
      " 25  MasVnrType     1452 non-null   object \n",
      " 26  MasVnrArea     1452 non-null   float64\n",
      " 27  ExterQual      1460 non-null   object \n",
      " 28  ExterCond      1460 non-null   object \n",
      " 29  Foundation     1460 non-null   object \n",
      " 30  BsmtQual       1423 non-null   object \n",
      " 31  BsmtCond       1423 non-null   object \n",
      " 32  BsmtExposure   1422 non-null   object \n",
      " 33  BsmtFinType1   1423 non-null   object \n",
      " 34  BsmtFinSF1     1460 non-null   int64  \n",
      " 35  BsmtFinType2   1422 non-null   object \n",
      " 36  BsmtFinSF2     1460 non-null   int64  \n",
      " 37  BsmtUnfSF      1460 non-null   int64  \n",
      " 38  TotalBsmtSF    1460 non-null   int64  \n",
      " 39  Heating        1460 non-null   object \n",
      " 40  HeatingQC      1460 non-null   object \n",
      " 41  CentralAir     1460 non-null   object \n",
      " 42  Electrical     1459 non-null   object \n",
      " 43  1stFlrSF       1460 non-null   int64  \n",
      " 44  2ndFlrSF       1460 non-null   int64  \n",
      " 45  LowQualFinSF   1460 non-null   int64  \n",
      " 46  GrLivArea      1460 non-null   int64  \n",
      " 47  BsmtFullBath   1460 non-null   int64  \n",
      " 48  BsmtHalfBath   1460 non-null   int64  \n",
      " 49  FullBath       1460 non-null   int64  \n",
      " 50  HalfBath       1460 non-null   int64  \n",
      " 51  BedroomAbvGr   1460 non-null   int64  \n",
      " 52  KitchenAbvGr   1460 non-null   int64  \n",
      " 53  KitchenQual    1460 non-null   object \n",
      " 54  TotRmsAbvGrd   1460 non-null   int64  \n",
      " 55  Functional     1460 non-null   object \n",
      " 56  Fireplaces     1460 non-null   int64  \n",
      " 57  FireplaceQu    770 non-null    object \n",
      " 58  GarageType     1379 non-null   object \n",
      " 59  GarageYrBlt    1379 non-null   float64\n",
      " 60  GarageFinish   1379 non-null   object \n",
      " 61  GarageCars     1460 non-null   int64  \n",
      " 62  GarageArea     1460 non-null   int64  \n",
      " 63  GarageQual     1379 non-null   object \n",
      " 64  GarageCond     1379 non-null   object \n",
      " 65  PavedDrive     1460 non-null   object \n",
      " 66  WoodDeckSF     1460 non-null   int64  \n",
      " 67  OpenPorchSF    1460 non-null   int64  \n",
      " 68  EnclosedPorch  1460 non-null   int64  \n",
      " 69  3SsnPorch      1460 non-null   int64  \n",
      " 70  ScreenPorch    1460 non-null   int64  \n",
      " 71  PoolArea       1460 non-null   int64  \n",
      " 72  PoolQC         7 non-null      object \n",
      " 73  Fence          281 non-null    object \n",
      " 74  MiscFeature    54 non-null     object \n",
      " 75  MiscVal        1460 non-null   int64  \n",
      " 76  MoSold         1460 non-null   int64  \n",
      " 77  YrSold         1460 non-null   int64  \n",
      " 78  SaleType       1460 non-null   object \n",
      " 79  SaleCondition  1460 non-null   object \n",
      " 80  SalePrice      1460 non-null   int64  \n",
      "dtypes: float64(3), int64(35), object(43)\n",
      "memory usage: 924.0+ KB\n",
      "None\n"
     ]
    }
   ],
   "source": [
    "# Taking a look \n",
    "train.head(5)\n",
    "# Are there any gaps in the data?\n",
    "print(train.info())\n",
    "# Yes Alley, PoolQC, Fence, MiscFeature, and FireplaceQu are missing a lot of data\n",
    "\n",
    "# Remove all missing values\n",
    "train = train.dropna(axis='columns',how='any')"
   ]
  },
  {
   "cell_type": "code",
   "execution_count": 3,
   "id": "38b74f4a",
   "metadata": {
    "execution": {
     "iopub.execute_input": "2022-09-08T23:54:14.235853Z",
     "iopub.status.busy": "2022-09-08T23:54:14.235415Z",
     "iopub.status.idle": "2022-09-08T23:54:15.458029Z",
     "shell.execute_reply": "2022-09-08T23:54:15.456647Z"
    },
    "papermill": {
     "duration": 1.231443,
     "end_time": "2022-09-08T23:54:15.460972",
     "exception": false,
     "start_time": "2022-09-08T23:54:14.229529",
     "status": "completed"
    },
    "tags": []
   },
   "outputs": [
    {
     "data": {
      "text/plain": [
       "<AxesSubplot:>"
      ]
     },
     "execution_count": 3,
     "metadata": {},
     "output_type": "execute_result"
    },
    {
     "data": {
      "image/png": "[encoded data removed]",
      "text/plain": [
       "<Figure size 2160x1440 with 2 Axes>"
      ]
     },
     "metadata": {
      "needs_background": "light"
     },
     "output_type": "display_data"
    }
   ],
   "source": [
    "# Correlation heatmap with a triangular mask\n",
    "plt.figure(figsize=(30,20))\n",
    "sns.heatmap(train.corr(),mask=np.triu(np.ones_like(train.corr())),cmap=\"BuPu\")"
   ]
  },
  {
   "cell_type": "markdown",
   "id": "a4b2af95",
   "metadata": {
    "papermill": {
     "duration": 0.005542,
     "end_time": "2022-09-08T23:54:15.472583",
     "exception": false,
     "start_time": "2022-09-08T23:54:15.467041",
     "status": "completed"
    },
    "tags": []
   },
   "source": [
    "## Model 1: Decision Tree with Correlated Factors\n",
    "Now that we've visualized and cleaned the data, let's build our first model to predict price. This model will be a decision tree using a few of the most highly correlated factors such as Overall Quality, Year Built and factors relating to Area of the property (how big it is)."
   ]
  },
  {
   "cell_type": "code",
   "execution_count": 4,
   "id": "f06aaed5",
   "metadata": {
    "execution": {
     "iopub.execute_input": "2022-09-08T23:54:15.486526Z",
     "iopub.status.busy": "2022-09-08T23:54:15.485705Z",
     "iopub.status.idle": "2022-09-08T23:54:15.506456Z",
     "shell.execute_reply": "2022-09-08T23:54:15.505398Z"
    },
    "papermill": {
     "duration": 0.030228,
     "end_time": "2022-09-08T23:54:15.508633",
     "exception": false,
     "start_time": "2022-09-08T23:54:15.478405",
     "status": "completed"
    },
    "tags": []
   },
   "outputs": [
    {
     "name": "stdout",
     "output_type": "stream",
     "text": [
      "27404.897260273974\n"
     ]
    }
   ],
   "source": [
    "y = train.SalePrice # Setting the target variable\n",
    "features = ['OverallQual','YearBuilt','GrLivArea','GarageCars','GarageArea']\n",
    "X = train[features]\n",
    "train_X, test_X, train_y, test_y = train_test_split(X,y,random_state=1) \n",
    "model1 = DecisionTreeRegressor(random_state=1)\n",
    "model1.fit(train_X,train_y)\n",
    "\n",
    "predictions = model1.predict(test_X)\n",
    "print(mean_absolute_error(test_y,predictions))"
   ]
  },
  {
   "cell_type": "markdown",
   "id": "3072f1e6",
   "metadata": {
    "papermill": {
     "duration": 0.005739,
     "end_time": "2022-09-08T23:54:15.520376",
     "exception": false,
     "start_time": "2022-09-08T23:54:15.514637",
     "status": "completed"
    },
    "tags": []
   },
   "source": [
    "On average our model is off by $27,404. Let's see if we can do better just by adding more factors."
   ]
  },
  {
   "cell_type": "markdown",
   "id": "865e9e36",
   "metadata": {
    "papermill": {
     "duration": 0.005613,
     "end_time": "2022-09-08T23:54:15.531969",
     "exception": false,
     "start_time": "2022-09-08T23:54:15.526356",
     "status": "completed"
    },
    "tags": []
   },
   "source": [
    "## Model 2: Add More Variables and Nodes"
   ]
  },
  {
   "cell_type": "code",
   "execution_count": 5,
   "id": "6a8037a5",
   "metadata": {
    "execution": {
     "iopub.execute_input": "2022-09-08T23:54:15.545759Z",
     "iopub.status.busy": "2022-09-08T23:54:15.545111Z",
     "iopub.status.idle": "2022-09-08T23:54:15.574995Z",
     "shell.execute_reply": "2022-09-08T23:54:15.573962Z"
    },
    "papermill": {
     "duration": 0.039295,
     "end_time": "2022-09-08T23:54:15.577235",
     "exception": false,
     "start_time": "2022-09-08T23:54:15.537940",
     "status": "completed"
    },
    "tags": []
   },
   "outputs": [
    {
     "name": "stdout",
     "output_type": "stream",
     "text": [
      "24960.487671232877\n"
     ]
    }
   ],
   "source": [
    "y = train.SalePrice # Setting the target variable\n",
    "features = ['MSSubClass','LotArea','OverallQual','OverallCond','YearBuilt',\n",
    "           'YearRemodAdd','BsmtFinSF1','BsmtFinSF2','BsmtUnfSF','TotalBsmtSF',\n",
    "           '1stFlrSF','2ndFlrSF','LowQualFinSF','GrLivArea','BsmtFullBath','BsmtHalfBath',\n",
    "           'FullBath','HalfBath','BedroomAbvGr','KitchenAbvGr','TotRmsAbvGrd','Fireplaces',\n",
    "           'GarageCars','GarageArea','WoodDeckSF','OpenPorchSF','EnclosedPorch','3SsnPorch',\n",
    "           'ScreenPorch','PoolArea','MiscVal','MoSold','YrSold']\n",
    "X = train[features]\n",
    "train_X, test_X, train_y, test_y = train_test_split(X,y,random_state=1) \n",
    "model2 = DecisionTreeRegressor(random_state=1)\n",
    "model2.fit(train_X,train_y)\n",
    "\n",
    "predictions = model2.predict(test_X)\n",
    "print(mean_absolute_error(test_y,predictions))"
   ]
  },
  {
   "cell_type": "markdown",
   "id": "f8f341e4",
   "metadata": {
    "papermill": {
     "duration": 0.005789,
     "end_time": "2022-09-08T23:54:15.589205",
     "exception": false,
     "start_time": "2022-09-08T23:54:15.583416",
     "status": "completed"
    },
    "tags": []
   },
   "source": [
    "Our model has improved but only slightly by about $2444. This can be refined further by adjusting the max_leaf_nodes input in the DecisionTreeRegressor function. "
   ]
  },
  {
   "cell_type": "code",
   "execution_count": 6,
   "id": "0e4ea4e8",
   "metadata": {
    "execution": {
     "iopub.execute_input": "2022-09-08T23:54:15.604901Z",
     "iopub.status.busy": "2022-09-08T23:54:15.602929Z",
     "iopub.status.idle": "2022-09-08T23:54:15.852184Z",
     "shell.execute_reply": "2022-09-08T23:54:15.850740Z"
    },
    "papermill": {
     "duration": 0.26027,
     "end_time": "2022-09-08T23:54:15.855532",
     "exception": false,
     "start_time": "2022-09-08T23:54:15.595262",
     "status": "completed"
    },
    "tags": []
   },
   "outputs": [
    {
     "name": "stdout",
     "output_type": "stream",
     "text": [
      "(10, 28708.48756812182)\n",
      "(20, 24526.822765265853)\n",
      "(30, 24230.812859232345)\n",
      "(40, 24105.915064808378)\n",
      "(50, 23754.028827004666)\n",
      "(60, 23261.34103097117)\n",
      "(70, 23432.10548805913)\n",
      "(80, 23352.290564396335)\n",
      "(90, 23186.79544352743)\n",
      "(100, 23417.56551999571)\n",
      "90\n"
     ]
    }
   ],
   "source": [
    "# Define a function which computes the MAE for comparison of models with different numbers\n",
    "# of nodes\n",
    "def get_mae(max_leaf_nodes,train_X,val_X,train_y,val_y):\n",
    "    model = DecisionTreeRegressor(max_leaf_nodes=max_leaf_nodes,random_state=1)\n",
    "    model.fit(train_X,train_y)\n",
    "    preds_val=model.predict(val_X)\n",
    "    mae = mean_absolute_error(val_y,preds_val)\n",
    "    return(mae)\n",
    "\n",
    "# Compute the MAE for each number in the array, representing number of nodes\n",
    "node_array = [10,20,30,40,50,60,70,80,90,100]\n",
    "for max_leaf_nodes in node_array:\n",
    "    my_mae = get_mae(max_leaf_nodes,train_X,test_X,train_y,test_y)\n",
    "    print((max_leaf_nodes,my_mae))\n",
    "    \n",
    "\n",
    "# Or loop to find the best number in a given array\n",
    "scores = {leaf_size: get_mae(leaf_size, train_X, test_X, train_y, test_y) \n",
    "          for leaf_size in node_array}\n",
    "best_tree_size = min(scores,key=scores.get)\n",
    "print(best_tree_size)"
   ]
  },
  {
   "cell_type": "code",
   "execution_count": 7,
   "id": "7da1a5c7",
   "metadata": {
    "execution": {
     "iopub.execute_input": "2022-09-08T23:54:15.870885Z",
     "iopub.status.busy": "2022-09-08T23:54:15.869829Z",
     "iopub.status.idle": "2022-09-08T23:54:15.891343Z",
     "shell.execute_reply": "2022-09-08T23:54:15.890266Z"
    },
    "papermill": {
     "duration": 0.031538,
     "end_time": "2022-09-08T23:54:15.893846",
     "exception": false,
     "start_time": "2022-09-08T23:54:15.862308",
     "status": "completed"
    },
    "tags": []
   },
   "outputs": [
    {
     "name": "stdout",
     "output_type": "stream",
     "text": [
      "23186.79544352743\n"
     ]
    }
   ],
   "source": [
    "model2 = DecisionTreeRegressor(random_state=1,max_leaf_nodes=90)\n",
    "model2.fit(train_X,train_y)\n",
    "\n",
    "predictions = model2.predict(test_X)\n",
    "print(mean_absolute_error(test_y,predictions))"
   ]
  },
  {
   "cell_type": "markdown",
   "id": "5d94ee30",
   "metadata": {
    "papermill": {
     "duration": 0.00621,
     "end_time": "2022-09-08T23:54:15.906429",
     "exception": false,
     "start_time": "2022-09-08T23:54:15.900219",
     "status": "completed"
    },
    "tags": []
   },
   "source": [
    "Using 90 leaves or nodes in the Decision Tree gives us a MAE of $23,186. Not bad for such a simple model I suppose, but if we want to be more accurate we'll have to be more clever. Let's try a more sophisticated model: a Random Forest."
   ]
  },
  {
   "cell_type": "markdown",
   "id": "8141cbe5",
   "metadata": {
    "papermill": {
     "duration": 0.005912,
     "end_time": "2022-09-08T23:54:15.918597",
     "exception": false,
     "start_time": "2022-09-08T23:54:15.912685",
     "status": "completed"
    },
    "tags": []
   },
   "source": [
    "## Model 3: Random Forest"
   ]
  },
  {
   "cell_type": "code",
   "execution_count": 8,
   "id": "f90f7e3d",
   "metadata": {
    "execution": {
     "iopub.execute_input": "2022-09-08T23:54:15.933083Z",
     "iopub.status.busy": "2022-09-08T23:54:15.932322Z",
     "iopub.status.idle": "2022-09-08T23:54:17.024192Z",
     "shell.execute_reply": "2022-09-08T23:54:17.022542Z"
    },
    "papermill": {
     "duration": 1.102074,
     "end_time": "2022-09-08T23:54:17.026913",
     "exception": false,
     "start_time": "2022-09-08T23:54:15.924839",
     "status": "completed"
    },
    "tags": []
   },
   "outputs": [
    {
     "name": "stdout",
     "output_type": "stream",
     "text": [
      "16926.217502283107\n"
     ]
    }
   ],
   "source": [
    "from sklearn.ensemble import RandomForestRegressor\n",
    "forest1 = RandomForestRegressor(random_state=1)\n",
    "forest1.fit(train_X,train_y)\n",
    "fpreds = forest1.predict(test_X)\n",
    "print(mean_absolute_error(test_y,fpreds))"
   ]
  },
  {
   "cell_type": "markdown",
   "id": "f1114c74",
   "metadata": {
    "papermill": {
     "duration": 0.006601,
     "end_time": "2022-09-08T23:54:17.039927",
     "exception": false,
     "start_time": "2022-09-08T23:54:17.033326",
     "status": "completed"
    },
    "tags": []
   },
   "source": [
    "## Conclusion\n",
    "The Random Forest model is a nice improvement bringing the MAE down to $16,926, but our model is still not very accurate. It's also not very practical because if you're want to predict what your house will sell for, you'll need to input 61 variables. \n",
    "I think the model can be improved further by examining the factors more carefully, getting a better idea which factors we can exclude and seeing if any transformations could help"
   ]
  }
 ],
 "metadata": {
  "kernelspec": {
   "display_name": "Python 3",
   "language": "python",
   "name": "python3"
  },
  "language_info": {
   "codemirror_mode": {
    "name": "ipython",
    "version": 3
   },
   "file_extension": ".py",
   "mimetype": "text/x-python",
   "name": "python",
   "nbconvert_exporter": "python",
   "pygments_lexer": "ipython3",
   "version": "3.7.12"
  },
  "papermill": {
   "default_parameters": {},
   "duration": 14.34741,
   "end_time": "2022-09-08T23:54:17.767694",
   "environment_variables": {},
   "exception": null,
   "input_path": "__notebook__.ipynb",
   "output_path": "__notebook__.ipynb",
   "parameters": {},
   "start_time": "2022-09-08T23:54:03.420284",
   "version": "2.3.4"
  }
 },
 "nbformat": 4,
 "nbformat_minor": 5
}
